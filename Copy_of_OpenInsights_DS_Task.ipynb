{
  "nbformat": 4,
  "nbformat_minor": 0,
  "metadata": {
    "colab": {
      "name": "Copy of OpenInsights_DS_Task.ipynb",
      "provenance": [],
      "collapsed_sections": [],
      "include_colab_link": true
    },
    "kernelspec": {
      "display_name": "Python 3",
      "name": "python3"
    },
    "language_info": {
      "name": "python"
    }
  },
  "cells": [
    {
      "cell_type": "markdown",
      "metadata": {
        "id": "view-in-github",
        "colab_type": "text"
      },
      "source": [
        "<a href=\"https://colab.research.google.com/github/Hamza-Ghnaim/Design-and-Implementation-of-a-Robotic-Goalie/blob/main/Copy_of_OpenInsights_DS_Task.ipynb\" target=\"_parent\"><img src=\"https://colab.research.google.com/assets/colab-badge.svg\" alt=\"Open In Colab\"/></a>"
      ]
    },
    {
      "cell_type": "markdown",
      "metadata": {
        "id": "CwyjFbRthEuZ"
      },
      "source": [
        "**Open Insights Data Science - CTU 13 Botnet Detection Task**\n",
        "\n",
        ">**Description**: The goal of this assignment is to build a machine learning model that can predict botnet traffic. The dataset used is \"*CTU-13*\" which captures real botnet traffic mixed with normal and background traffics. The dataset consists of 13 captures (scenarios) that differ in the executed malware. In this assignment, you will be using scenario 5.\n",
        "\n",
        ">The assignment is divided into 7 tasks that cover data analysis, feature extraction, and model building. Follow the instructions within each task to complete the assignment.\n",
        "\n",
        ">We are looking for code that is clear, readable, and executable. While it is recommended to complete the entire assignment, incomplete assignments are also accepted. \n",
        ">\n",
        ">**Objective**: Build an XGBOOST machine learning model to predict botnet traffic\n",
        ">\n",
        ">**Dataset**: CTU 13 - Scenario 5 [https://www.stratosphereips.org/datasets-ctu13]\n",
        ">\n",
        ">**Please complete all cells marked as \"Task\", until you reach a completed running XGBoost model that predicts botnet traffic**"
      ]
    },
    {
      "cell_type": "code",
      "metadata": {
        "id": "o2L-BSKWaWeI"
      },
      "source": [
        "# Imports\n",
        "from sklearn.model_selection import train_test_split\n",
        "from sklearn.preprocessing import StandardScaler\n",
        "from sklearn.utils import shuffle\n",
        "from sklearn.metrics import f1_score, confusion_matrix, precision_score, recall_score\n",
        "import time, itertools, numpy as np, xgboost as xgb,  pandas as pd, math, glob, json, operator, requests\n",
        "import matplotlib\n",
        "import matplotlib.pyplot as plt"
      ],
      "execution_count": 1,
      "outputs": []
    },
    {
      "cell_type": "code",
      "metadata": {
        "id": "TFBRueQLavbr",
        "colab": {
          "base_uri": "https://localhost:8080/"
        },
        "outputId": "c52f8db1-0da3-4994-9d13-ded55e3a9b45"
      },
      "source": [
        "# Data Ingestion\n",
        "# Ingest scenario 5 of the CTU-13 dataset\n",
        "# The Scenario is captured as a pandas dataframe\n",
        "!gdown --id 1p0ZMJTZIV5cIpuS8tQ-UgNeABDqBi2XJ\n",
        "scenario_5 = pd.read_csv(\"ctu13_scenario5.csv\")\n",
        "scenario_5[\"Scenario\"] = 5"
      ],
      "execution_count": 2,
      "outputs": [
        {
          "output_type": "stream",
          "name": "stdout",
          "text": [
            "Downloading...\n",
            "From: https://drive.google.com/uc?id=1p0ZMJTZIV5cIpuS8tQ-UgNeABDqBi2XJ\n",
            "To: /content/ctu13_scenario5.csv\n",
            "\r  0% 0.00/17.8M [00:00<?, ?B/s]\r100% 17.8M/17.8M [00:00<00:00, 218MB/s]\n"
          ]
        }
      ]
    },
    {
      "cell_type": "code",
      "metadata": {
        "id": "3w5rz5JKdd2f"
      },
      "source": [
        "# Task 1 - Data Cleansing & Standardization\n",
        "# Step 1. Impute Null and NaN values\n",
        "# Step 2. Convert Hex values of \"Sport\" and \"Dport\" to Integers\n",
        "# Step 3. Parse \"StartTime\" into a datetime format"
      ],
      "execution_count": null,
      "outputs": []
    },
    {
      "cell_type": "markdown",
      "source": [
        "# Task 1: Data Cleansing and Standarization"
      ],
      "metadata": {
        "id": "efN6Jcth7Yuh"
      }
    },
    {
      "cell_type": "code",
      "source": [
        "# first of all we create a copy of our dataframe and perform the changes on it\n",
        "\n",
        "df_copy = scenario_5.copy()"
      ],
      "metadata": {
        "id": "S9jYoi5o744s"
      },
      "execution_count": 129,
      "outputs": []
    },
    {
      "cell_type": "code",
      "source": [
        "# we take a look at our data\n",
        "\n",
        "df_copy.tail()"
      ],
      "metadata": {
        "colab": {
          "base_uri": "https://localhost:8080/",
          "height": 409
        },
        "id": "iDWHWvp7F93W",
        "outputId": "88df9717-51e3-4dca-cb88-2465f41d863c"
      },
      "execution_count": 130,
      "outputs": [
        {
          "output_type": "execute_result",
          "data": {
            "text/plain": [
              "                         StartTime       Dur Proto         SrcAddr  Sport  \\\n",
              "129827  2011/08/15 17:13:26.665269  0.020175   tcp    147.32.84.59   1121   \n",
              "129828  2011/08/15 17:13:26.715751  0.000306   udp    147.32.86.20  63044   \n",
              "129829  2011/08/15 17:13:26.716285  0.076739   tcp    147.32.86.20   1311   \n",
              "129830  2011/08/15 17:13:26.721279  0.000244   tcp   78.94.167.118  65017   \n",
              "129831  2011/08/15 17:13:26.758894  0.000551   udp  178.90.228.239  57645   \n",
              "\n",
              "          Dir         DstAddr  Dport    State  sTos  dTos  TotPkts  TotBytes  \\\n",
              "129827     ->    147.32.80.13     80  SPA_SPA   0.0   0.0        5      1070   \n",
              "129828    <->     147.32.80.9     53      CON   0.0   0.0        2       261   \n",
              "129829     ->  188.138.84.239     80   SPA_SA   0.0   0.0       10      3639   \n",
              "129830     ->   147.32.84.118   6881     S_RA   0.0   0.0        2       134   \n",
              "129831    <->   147.32.84.229  13363      CON   0.0   0.0        2       132   \n",
              "\n",
              "        SrcBytes                                   Label  Scenario  \n",
              "129827       726           flow=To-Background-CVUT-Proxy         5  \n",
              "129828        84  flow=To-Background-UDP-CVUT-DNS-Server         5  \n",
              "129829       429         flow=Background-TCP-Established         5  \n",
              "129830        74             flow=Background-TCP-Attempt         5  \n",
              "129831        72         flow=Background-UDP-Established         5  "
            ],
            "text/html": [
              "\n",
              "  <div id=\"df-98a908fc-3490-4d62-b931-a65aeac18d8c\">\n",
              "    <div class=\"colab-df-container\">\n",
              "      <div>\n",
              "<style scoped>\n",
              "    .dataframe tbody tr th:only-of-type {\n",
              "        vertical-align: middle;\n",
              "    }\n",
              "\n",
              "    .dataframe tbody tr th {\n",
              "        vertical-align: top;\n",
              "    }\n",
              "\n",
              "    .dataframe thead th {\n",
              "        text-align: right;\n",
              "    }\n",
              "</style>\n",
              "<table border=\"1\" class=\"dataframe\">\n",
              "  <thead>\n",
              "    <tr style=\"text-align: right;\">\n",
              "      <th></th>\n",
              "      <th>StartTime</th>\n",
              "      <th>Dur</th>\n",
              "      <th>Proto</th>\n",
              "      <th>SrcAddr</th>\n",
              "      <th>Sport</th>\n",
              "      <th>Dir</th>\n",
              "      <th>DstAddr</th>\n",
              "      <th>Dport</th>\n",
              "      <th>State</th>\n",
              "      <th>sTos</th>\n",
              "      <th>dTos</th>\n",
              "      <th>TotPkts</th>\n",
              "      <th>TotBytes</th>\n",
              "      <th>SrcBytes</th>\n",
              "      <th>Label</th>\n",
              "      <th>Scenario</th>\n",
              "    </tr>\n",
              "  </thead>\n",
              "  <tbody>\n",
              "    <tr>\n",
              "      <th>129827</th>\n",
              "      <td>2011/08/15 17:13:26.665269</td>\n",
              "      <td>0.020175</td>\n",
              "      <td>tcp</td>\n",
              "      <td>147.32.84.59</td>\n",
              "      <td>1121</td>\n",
              "      <td>-&gt;</td>\n",
              "      <td>147.32.80.13</td>\n",
              "      <td>80</td>\n",
              "      <td>SPA_SPA</td>\n",
              "      <td>0.0</td>\n",
              "      <td>0.0</td>\n",
              "      <td>5</td>\n",
              "      <td>1070</td>\n",
              "      <td>726</td>\n",
              "      <td>flow=To-Background-CVUT-Proxy</td>\n",
              "      <td>5</td>\n",
              "    </tr>\n",
              "    <tr>\n",
              "      <th>129828</th>\n",
              "      <td>2011/08/15 17:13:26.715751</td>\n",
              "      <td>0.000306</td>\n",
              "      <td>udp</td>\n",
              "      <td>147.32.86.20</td>\n",
              "      <td>63044</td>\n",
              "      <td>&lt;-&gt;</td>\n",
              "      <td>147.32.80.9</td>\n",
              "      <td>53</td>\n",
              "      <td>CON</td>\n",
              "      <td>0.0</td>\n",
              "      <td>0.0</td>\n",
              "      <td>2</td>\n",
              "      <td>261</td>\n",
              "      <td>84</td>\n",
              "      <td>flow=To-Background-UDP-CVUT-DNS-Server</td>\n",
              "      <td>5</td>\n",
              "    </tr>\n",
              "    <tr>\n",
              "      <th>129829</th>\n",
              "      <td>2011/08/15 17:13:26.716285</td>\n",
              "      <td>0.076739</td>\n",
              "      <td>tcp</td>\n",
              "      <td>147.32.86.20</td>\n",
              "      <td>1311</td>\n",
              "      <td>-&gt;</td>\n",
              "      <td>188.138.84.239</td>\n",
              "      <td>80</td>\n",
              "      <td>SPA_SA</td>\n",
              "      <td>0.0</td>\n",
              "      <td>0.0</td>\n",
              "      <td>10</td>\n",
              "      <td>3639</td>\n",
              "      <td>429</td>\n",
              "      <td>flow=Background-TCP-Established</td>\n",
              "      <td>5</td>\n",
              "    </tr>\n",
              "    <tr>\n",
              "      <th>129830</th>\n",
              "      <td>2011/08/15 17:13:26.721279</td>\n",
              "      <td>0.000244</td>\n",
              "      <td>tcp</td>\n",
              "      <td>78.94.167.118</td>\n",
              "      <td>65017</td>\n",
              "      <td>-&gt;</td>\n",
              "      <td>147.32.84.118</td>\n",
              "      <td>6881</td>\n",
              "      <td>S_RA</td>\n",
              "      <td>0.0</td>\n",
              "      <td>0.0</td>\n",
              "      <td>2</td>\n",
              "      <td>134</td>\n",
              "      <td>74</td>\n",
              "      <td>flow=Background-TCP-Attempt</td>\n",
              "      <td>5</td>\n",
              "    </tr>\n",
              "    <tr>\n",
              "      <th>129831</th>\n",
              "      <td>2011/08/15 17:13:26.758894</td>\n",
              "      <td>0.000551</td>\n",
              "      <td>udp</td>\n",
              "      <td>178.90.228.239</td>\n",
              "      <td>57645</td>\n",
              "      <td>&lt;-&gt;</td>\n",
              "      <td>147.32.84.229</td>\n",
              "      <td>13363</td>\n",
              "      <td>CON</td>\n",
              "      <td>0.0</td>\n",
              "      <td>0.0</td>\n",
              "      <td>2</td>\n",
              "      <td>132</td>\n",
              "      <td>72</td>\n",
              "      <td>flow=Background-UDP-Established</td>\n",
              "      <td>5</td>\n",
              "    </tr>\n",
              "  </tbody>\n",
              "</table>\n",
              "</div>\n",
              "      <button class=\"colab-df-convert\" onclick=\"convertToInteractive('df-98a908fc-3490-4d62-b931-a65aeac18d8c')\"\n",
              "              title=\"Convert this dataframe to an interactive table.\"\n",
              "              style=\"display:none;\">\n",
              "        \n",
              "  <svg xmlns=\"http://www.w3.org/2000/svg\" height=\"24px\"viewBox=\"0 0 24 24\"\n",
              "       width=\"24px\">\n",
              "    <path d=\"M0 0h24v24H0V0z\" fill=\"none\"/>\n",
              "    <path d=\"M18.56 5.44l.94 2.06.94-2.06 2.06-.94-2.06-.94-.94-2.06-.94 2.06-2.06.94zm-11 1L8.5 8.5l.94-2.06 2.06-.94-2.06-.94L8.5 2.5l-.94 2.06-2.06.94zm10 10l.94 2.06.94-2.06 2.06-.94-2.06-.94-.94-2.06-.94 2.06-2.06.94z\"/><path d=\"M17.41 7.96l-1.37-1.37c-.4-.4-.92-.59-1.43-.59-.52 0-1.04.2-1.43.59L10.3 9.45l-7.72 7.72c-.78.78-.78 2.05 0 2.83L4 21.41c.39.39.9.59 1.41.59.51 0 1.02-.2 1.41-.59l7.78-7.78 2.81-2.81c.8-.78.8-2.07 0-2.86zM5.41 20L4 18.59l7.72-7.72 1.47 1.35L5.41 20z\"/>\n",
              "  </svg>\n",
              "      </button>\n",
              "      \n",
              "  <style>\n",
              "    .colab-df-container {\n",
              "      display:flex;\n",
              "      flex-wrap:wrap;\n",
              "      gap: 12px;\n",
              "    }\n",
              "\n",
              "    .colab-df-convert {\n",
              "      background-color: #E8F0FE;\n",
              "      border: none;\n",
              "      border-radius: 50%;\n",
              "      cursor: pointer;\n",
              "      display: none;\n",
              "      fill: #1967D2;\n",
              "      height: 32px;\n",
              "      padding: 0 0 0 0;\n",
              "      width: 32px;\n",
              "    }\n",
              "\n",
              "    .colab-df-convert:hover {\n",
              "      background-color: #E2EBFA;\n",
              "      box-shadow: 0px 1px 2px rgba(60, 64, 67, 0.3), 0px 1px 3px 1px rgba(60, 64, 67, 0.15);\n",
              "      fill: #174EA6;\n",
              "    }\n",
              "\n",
              "    [theme=dark] .colab-df-convert {\n",
              "      background-color: #3B4455;\n",
              "      fill: #D2E3FC;\n",
              "    }\n",
              "\n",
              "    [theme=dark] .colab-df-convert:hover {\n",
              "      background-color: #434B5C;\n",
              "      box-shadow: 0px 1px 3px 1px rgba(0, 0, 0, 0.15);\n",
              "      filter: drop-shadow(0px 1px 2px rgba(0, 0, 0, 0.3));\n",
              "      fill: #FFFFFF;\n",
              "    }\n",
              "  </style>\n",
              "\n",
              "      <script>\n",
              "        const buttonEl =\n",
              "          document.querySelector('#df-98a908fc-3490-4d62-b931-a65aeac18d8c button.colab-df-convert');\n",
              "        buttonEl.style.display =\n",
              "          google.colab.kernel.accessAllowed ? 'block' : 'none';\n",
              "\n",
              "        async function convertToInteractive(key) {\n",
              "          const element = document.querySelector('#df-98a908fc-3490-4d62-b931-a65aeac18d8c');\n",
              "          const dataTable =\n",
              "            await google.colab.kernel.invokeFunction('convertToInteractive',\n",
              "                                                     [key], {});\n",
              "          if (!dataTable) return;\n",
              "\n",
              "          const docLinkHtml = 'Like what you see? Visit the ' +\n",
              "            '<a target=\"_blank\" href=https://colab.research.google.com/notebooks/data_table.ipynb>data table notebook</a>'\n",
              "            + ' to learn more about interactive tables.';\n",
              "          element.innerHTML = '';\n",
              "          dataTable['output_type'] = 'display_data';\n",
              "          await google.colab.output.renderOutput(dataTable, element);\n",
              "          const docLink = document.createElement('div');\n",
              "          docLink.innerHTML = docLinkHtml;\n",
              "          element.appendChild(docLink);\n",
              "        }\n",
              "      </script>\n",
              "    </div>\n",
              "  </div>\n",
              "  "
            ]
          },
          "metadata": {},
          "execution_count": 130
        }
      ]
    },
    {
      "cell_type": "code",
      "source": [
        "# now we display a brief description of the data\n",
        "\n",
        "df_copy.info()"
      ],
      "metadata": {
        "colab": {
          "base_uri": "https://localhost:8080/"
        },
        "id": "y0mblOfhG2sM",
        "outputId": "929596a8-7e7f-456b-b41b-d61715ffd197"
      },
      "execution_count": 131,
      "outputs": [
        {
          "output_type": "stream",
          "name": "stdout",
          "text": [
            "<class 'pandas.core.frame.DataFrame'>\n",
            "RangeIndex: 129832 entries, 0 to 129831\n",
            "Data columns (total 16 columns):\n",
            " #   Column     Non-Null Count   Dtype  \n",
            "---  ------     --------------   -----  \n",
            " 0   StartTime  129832 non-null  object \n",
            " 1   Dur        129832 non-null  float64\n",
            " 2   Proto      129832 non-null  object \n",
            " 3   SrcAddr    129832 non-null  object \n",
            " 4   Sport      129035 non-null  object \n",
            " 5   Dir        129832 non-null  object \n",
            " 6   DstAddr    129832 non-null  object \n",
            " 7   Dport      129455 non-null  object \n",
            " 8   State      129832 non-null  object \n",
            " 9   sTos       128974 non-null  float64\n",
            " 10  dTos       122936 non-null  float64\n",
            " 11  TotPkts    129832 non-null  int64  \n",
            " 12  TotBytes   129832 non-null  int64  \n",
            " 13  SrcBytes   129832 non-null  int64  \n",
            " 14  Label      129832 non-null  object \n",
            " 15  Scenario   129832 non-null  int64  \n",
            "dtypes: float64(3), int64(4), object(9)\n",
            "memory usage: 15.8+ MB\n"
          ]
        }
      ]
    },
    {
      "cell_type": "code",
      "source": [
        "# we calculate the number of null values in each feature\n",
        "\n",
        "df_copy.isnull().sum()"
      ],
      "metadata": {
        "colab": {
          "base_uri": "https://localhost:8080/"
        },
        "id": "t284PGplG21i",
        "outputId": "f33649b3-dbc9-4555-c0b2-6cca41688c97"
      },
      "execution_count": 132,
      "outputs": [
        {
          "output_type": "execute_result",
          "data": {
            "text/plain": [
              "StartTime       0\n",
              "Dur             0\n",
              "Proto           0\n",
              "SrcAddr         0\n",
              "Sport         797\n",
              "Dir             0\n",
              "DstAddr         0\n",
              "Dport         377\n",
              "State           0\n",
              "sTos          858\n",
              "dTos         6896\n",
              "TotPkts         0\n",
              "TotBytes        0\n",
              "SrcBytes        0\n",
              "Label           0\n",
              "Scenario        0\n",
              "dtype: int64"
            ]
          },
          "metadata": {},
          "execution_count": 132
        }
      ]
    },
    {
      "cell_type": "code",
      "source": [
        "#normally we drop the columns with missing values more than or equal to 40% , but no such columns exist in this dataset\n",
        "\n",
        "null_cols = [column for column in df_copy.columns if abs(df_copy[column].isnull().sum()/(len(df_copy.iloc[:,])) * 100) >= 40]\n",
        "null_cols"
      ],
      "metadata": {
        "colab": {
          "base_uri": "https://localhost:8080/"
        },
        "id": "Js51dWZ1G23_",
        "outputId": "62760f46-8267-4b9f-e5c2-6c0d312a8b27"
      },
      "execution_count": 133,
      "outputs": [
        {
          "output_type": "execute_result",
          "data": {
            "text/plain": [
              "[]"
            ]
          },
          "metadata": {},
          "execution_count": 133
        }
      ]
    },
    {
      "cell_type": "code",
      "source": [
        "# now we fill the missing values in each column with the most frequent value(mode) of the column\n",
        "\n",
        "def Impute_cols(dataframe):\n",
        "\n",
        "  \"\"\"  this function fills the missing values of numerical and categorical columns in a dataframe with the mode of the column  \"\"\"\n",
        "\n",
        "  # first we save columns with missing values in a list\n",
        "  null_cols  =[column for column in dataframe.columns if dataframe[column].isnull().any()]\n",
        "\n",
        "  # now we loop through the list of columns with nulls\n",
        "  for column in null_cols:\n",
        "\n",
        "    # count the most frequent value of each column and save it to a dataframe\n",
        "    mode = dataframe[column].value_counts().index[0]\n",
        "\n",
        "    #fill in with the mode\n",
        "    dataframe[column].fillna(mode,inplace = True)\n",
        "\n",
        "  return dataframe\n",
        "  \n",
        "# another alternative for the above function is sklearn's SimpleImputer"
      ],
      "metadata": {
        "id": "83xTjvG2egJ8"
      },
      "execution_count": 134,
      "outputs": []
    },
    {
      "cell_type": "code",
      "source": [
        "#call the function\n",
        "df_copy = Impute_cols(df_copy)"
      ],
      "metadata": {
        "id": "OJ7et5-kH3fC"
      },
      "execution_count": 135,
      "outputs": []
    },
    {
      "cell_type": "code",
      "source": [
        "df_copy.isnull().sum()"
      ],
      "metadata": {
        "id": "hlPSUm1VpPrd"
      },
      "execution_count": null,
      "outputs": []
    },
    {
      "cell_type": "code",
      "source": [
        "# Now we deal with the Hexa decimal values from the columns \"Sport\" and \"Dport\"\n",
        "\n",
        "df_copy['Dport']= df_copy['Dport'].map(lambda cell: str(int(cell,0)))\n",
        "df_copy['Sport']= df_copy['Sport'].map(lambda cell: str(int(cell,0)))"
      ],
      "metadata": {
        "id": "fvU8DiRvH3hk"
      },
      "execution_count": 136,
      "outputs": []
    },
    {
      "cell_type": "code",
      "source": [
        "# Now we parse the\"StartTime\" column into a datetime format"
      ],
      "metadata": {
        "id": "ebcjbgqsH3kU"
      },
      "execution_count": 137,
      "outputs": []
    },
    {
      "cell_type": "code",
      "source": [
        "df_copy[\"StartTime\"] .head()"
      ],
      "metadata": {
        "colab": {
          "base_uri": "https://localhost:8080/"
        },
        "id": "k5stWFV7pAot",
        "outputId": "30dcf05d-2754-4791-ef75-9317608d8f89"
      },
      "execution_count": 138,
      "outputs": [
        {
          "output_type": "execute_result",
          "data": {
            "text/plain": [
              "0    2011/08/15 16:43:28.078942\n",
              "1    2011/08/15 16:43:32.283576\n",
              "2    2011/08/15 16:43:32.456441\n",
              "3    2011/08/15 16:43:32.850648\n",
              "4    2011/08/15 16:45:09.305002\n",
              "Name: StartTime, dtype: object"
            ]
          },
          "metadata": {},
          "execution_count": 138
        }
      ]
    },
    {
      "cell_type": "code",
      "source": [
        "df_copy[\"StartTime\"] = pd.to_datetime(df_copy[\"StartTime\"], format=\"%Y/%m/%d %H:%M:%S.%f\")"
      ],
      "metadata": {
        "id": "KXmmkGqgpEgL"
      },
      "execution_count": 139,
      "outputs": []
    },
    {
      "cell_type": "code",
      "source": [
        "df_copy[\"StartTime\"] .head()"
      ],
      "metadata": {
        "colab": {
          "base_uri": "https://localhost:8080/"
        },
        "id": "0jmX-riDH3n4",
        "outputId": "19ebf20e-afc6-4a0e-9503-ab45108afbb5"
      },
      "execution_count": 140,
      "outputs": [
        {
          "output_type": "execute_result",
          "data": {
            "text/plain": [
              "0   2011-08-15 16:43:28.078942\n",
              "1   2011-08-15 16:43:32.283576\n",
              "2   2011-08-15 16:43:32.456441\n",
              "3   2011-08-15 16:43:32.850648\n",
              "4   2011-08-15 16:45:09.305002\n",
              "Name: StartTime, dtype: datetime64[ns]"
            ]
          },
          "metadata": {},
          "execution_count": 140
        }
      ]
    },
    {
      "cell_type": "markdown",
      "source": [
        "# Task 1 done"
      ],
      "metadata": {
        "id": "PT3Ez7Ldo0zB"
      }
    },
    {
      "cell_type": "code",
      "metadata": {
        "id": "1zG157HCh-DP"
      },
      "source": [
        "# Task 2 - Data Labeling\n",
        "# Step 1. Create a function that remaps the \"Label\" Column to three values \"Background\", \"Normal\" and \"Botnet\"\n",
        "# Step 2. Apply the function on the \"Label\" Column"
      ],
      "execution_count": null,
      "outputs": []
    },
    {
      "cell_type": "markdown",
      "source": [
        "# Task 2:Data Labeling"
      ],
      "metadata": {
        "id": "i_CsyBAXqHbZ"
      }
    },
    {
      "cell_type": "code",
      "source": [
        "df_copy.Label.value_counts()"
      ],
      "metadata": {
        "colab": {
          "base_uri": "https://localhost:8080/"
        },
        "id": "uYdfNrLFqadF",
        "outputId": "fb7c05bc-442f-4d56-e00d-8d5bc3f5b8ee"
      },
      "execution_count": 143,
      "outputs": [
        {
          "output_type": "execute_result",
          "data": {
            "text/plain": [
              "flow=To-Background-UDP-CVUT-DNS-Server                      50817\n",
              "flow=Background-UDP-Established                             37203\n",
              "flow=Background-TCP-Established                             15156\n",
              "flow=Background-Established-cmpgw-CVUT                       9331\n",
              "flow=Background                                              3426\n",
              "                                                            ...  \n",
              "flow=From-Botnet-V46-TCP-HTTP-Google-Net-Established-6          1\n",
              "flow=From-Botnet-V46-TCP-Established-Custom-Encryption-8        1\n",
              "flow=From-Botnet-V46-TCP-Established-HTTP-Ad-4                  1\n",
              "flow=From-Botnet-V46-TCP-CC7-Custom-Encryption                  1\n",
              "flow=From-Botnet-V46-TCP-Established                            1\n",
              "Name: Label, Length: 77, dtype: int64"
            ]
          },
          "metadata": {},
          "execution_count": 143
        }
      ]
    },
    {
      "cell_type": "code",
      "source": [
        ""
      ],
      "metadata": {
        "id": "-j2O3E_Oqafn"
      },
      "execution_count": null,
      "outputs": []
    },
    {
      "cell_type": "code",
      "source": [
        ""
      ],
      "metadata": {
        "id": "KsqQt7SSqaiL"
      },
      "execution_count": null,
      "outputs": []
    },
    {
      "cell_type": "code",
      "source": [
        ""
      ],
      "metadata": {
        "id": "UupF_DA_qakm"
      },
      "execution_count": null,
      "outputs": []
    },
    {
      "cell_type": "code",
      "source": [
        ""
      ],
      "metadata": {
        "id": "WfIDFtGRqan9"
      },
      "execution_count": null,
      "outputs": []
    },
    {
      "cell_type": "code",
      "source": [
        ""
      ],
      "metadata": {
        "id": "h0vyQ5lmqaxt"
      },
      "execution_count": null,
      "outputs": []
    },
    {
      "cell_type": "code",
      "source": [
        ""
      ],
      "metadata": {
        "id": "ozD3UzbeqazX"
      },
      "execution_count": null,
      "outputs": []
    },
    {
      "cell_type": "code",
      "source": [
        ""
      ],
      "metadata": {
        "id": "7aGXpJbwqa05"
      },
      "execution_count": null,
      "outputs": []
    },
    {
      "cell_type": "code",
      "source": [
        ""
      ],
      "metadata": {
        "id": "bkp3pUHZqa4X"
      },
      "execution_count": null,
      "outputs": []
    },
    {
      "cell_type": "code",
      "metadata": {
        "id": "vlthAySriIEo"
      },
      "source": [
        "# Task 3 - Exploratory Data Analysis\n",
        "# Step 1. Calculate the distribution of the \"Label\" ( Background, Botnet, Normal )\n",
        "# Step 2. Visualize the distribution of the following Columns \"Dur\", \"Proto\", \"Dir\", \"sTos\", \"dTos\", \"Sport\", \"Dport\", \"State\", \"TotPkts\", \"TotBytes\", \"SrcBytes\""
      ],
      "execution_count": null,
      "outputs": []
    },
    {
      "cell_type": "code",
      "metadata": {
        "id": "Al5ybEQ5iJ1W"
      },
      "source": [
        "# Task 4 - Datetime Feature Enrichment\n",
        "time_cols = [\"hod\", \"dow\", \"wom\", \"moy\"]\n",
        "# Step 1. Extract hour of day (hod) from StartTime\n",
        "# Step 2. Extract day of week (dow) from StartTime\n",
        "# Step 3. Extract week of month (wom) from StartTime\n",
        "# Step 4. Extract month of year (moy) from StartTime"
      ],
      "execution_count": null,
      "outputs": []
    },
    {
      "cell_type": "code",
      "metadata": {
        "id": "AlSlAPGBlOJ9"
      },
      "source": [
        "# Task 5 - One Hot Encoding & Scaling / Normalization\n",
        "# Step 1. Perform One-Hot Encoding on the following columns [\"Proto\", \"Dir\", \"State\", \"sTos\", \"dTos\"]\n",
        "ohe_in_cols = [\"Proto\", \"Dir\", \"State\", \"sTos\", \"dTos\"]\n",
        "# Step 2. Perform scaling using StandardScaler on the following columns [\"Dur\", \"TotPkts\", \"TotBytes\", \"SrcBytes\"]\n",
        "numerical_cols = [\"Dur\", \"TotPkts\", \"TotBytes\", \"SrcBytes\"]"
      ],
      "execution_count": null,
      "outputs": []
    },
    {
      "cell_type": "code",
      "metadata": {
        "id": "SbLij_-JlYAh"
      },
      "source": [
        "# Task 6 - Label Encoding\n",
        "# Step 1. Define a function to remap \"Label\" column into integers as follows Background = 0, Normal = 1, Botnet = 2\n",
        "# Step 2. Apply function to \"Label\" column"
      ],
      "execution_count": null,
      "outputs": []
    },
    {
      "cell_type": "code",
      "metadata": {
        "id": "TCUSLgu_mDAJ"
      },
      "source": [
        "# Task 7 - Model Build\n",
        "feature_cols = numerical_cols + time_cols + list(ohe_out_cols)\n",
        "# Step 1. Define x,y based on the feature_cols and the label_cols\n",
        "# Step 2. Perform a 80:20 train-test split \n",
        "# Step 3. Initialize an XGBoost Classifier Model\n",
        "# Step 4. Train Model on the training dataset produced by step 3\n",
        "# Step 5. Predict on the testing dataset produced by step 3\n",
        "# Step 6. Calculate f1_score, recall, precision for the testing dataset predictions"
      ],
      "execution_count": null,
      "outputs": []
    }
  ]
}